{
 "cells": [
  {
   "cell_type": "code",
   "execution_count": 32,
   "metadata": {},
   "outputs": [],
   "source": [
    "import pandas as pd\n",
    "import numpy as np\n",
    "\n",
    "from pathlib2 import Path\n",
    "from sklearn import model_selection as cv\n",
    "from sklearn.metrics.pairwise import pairwise_distances\n",
    "from metric import ndcg, mae_matrix, rmse_matrix"
   ]
  },
  {
   "cell_type": "markdown",
   "metadata": {},
   "source": [
    "# Load data"
   ]
  },
  {
   "cell_type": "code",
   "execution_count": 13,
   "metadata": {},
   "outputs": [],
   "source": [
    "data_dir = Path('movie_lens_100k')\n",
    "train_df = pd.read_csv(data_dir / 'movielens_100k_u1.base', sep='\\t', header=None, names=['user_id', 'movie_id', 'rating', 'timestamp'])\n",
    "test_df = pd.read_csv(data_dir / 'movielens_100k_u1.test', sep='\\t', header=None, names=['user_id', 'movie_id', 'rating', 'timestamp'])\n",
    "n_users = 943 \n",
    "n_items = 1682"
   ]
  },
  {
   "cell_type": "code",
   "execution_count": 34,
   "metadata": {},
   "outputs": [],
   "source": [
    "user_item_matrix = np.zeros((n_users, n_items))\n",
    "for row in train_df.itertuples():\n",
    "    user_item_matrix[row[1]-1, row[2]-1] = row[3]\n",
    "    \n",
    "test_data_matrix = np.zeros((n_users, n_items))\n",
    "for row in test_df.itertuples():\n",
    "    test_data_matrix[row[1]-1, row[2]-1] = row[3]\n",
    "test_mask = test_data_matrix > 0"
   ]
  },
  {
   "cell_type": "code",
   "execution_count": 15,
   "metadata": {},
   "outputs": [],
   "source": [
    "item_similarity = np.ones((n_items, n_items)) - pairwise_distances(user_item_matrix.T, metric='cosine')\n",
    "user_similarity = np.ones((n_users,n_users)) - pairwise_distances(user_item_matrix, metric='cosine')"
   ]
  },
  {
   "cell_type": "markdown",
   "metadata": {},
   "source": [
    "## Collabrative filtering"
   ]
  },
  {
   "cell_type": "code",
   "execution_count": 16,
   "metadata": {},
   "outputs": [],
   "source": [
    "def cf_predict(ratings, similarity, type='user'):\n",
    "    if type == 'user':\n",
    "        mean_user_rating = ratings.mean(axis=1)\n",
    "        ratings_diff = (ratings - mean_user_rating[:, np.newaxis])\n",
    "        pred = mean_user_rating[:, np.newaxis] + similarity.dot(ratings_diff) / np.array([np.abs(similarity).sum(axis=1)]).T\n",
    "    elif type == 'item':\n",
    "        pred = ratings.dot(similarity) / np.array([np.abs(similarity).sum(axis=1)])    \n",
    "    return pred"
   ]
  },
  {
   "cell_type": "code",
   "execution_count": 40,
   "metadata": {},
   "outputs": [],
   "source": [
    "user_based_prediction = cf_predict(user_item_matrix, user_similarity, type='user')\n",
    "user_based_prediction = np.clip(user_based_prediction, 1, 5)\n",
    "item_based_prediction = cf_predict(user_item_matrix, item_similarity, type='item')\n",
    "item_based_prediction = np.clip(item_based_prediction, 1, 5)"
   ]
  },
  {
   "cell_type": "code",
   "execution_count": 41,
   "metadata": {},
   "outputs": [
    {
     "name": "stdout",
     "output_type": "stream",
     "text": [
      "rmse for user based collaborative: 2.6531998983609273\n",
      "rmse for item based collaborative: 2.7775689746676595\n",
      "ndcg for user based collaborative: 0.8215091624249355\n",
      "ndcg for item based collaborative: 0.8174741502448656\n",
      "mae for user based collaborative: 2.406420567461062\n",
      "mae for item based collaborative: 2.5274213393493827\n"
     ]
    }
   ],
   "source": [
    "print('rmse for user based collaborative: {}'.format(rmse_matrix(user_based_prediction, test_mask, test_data_matrix)))\n",
    "print('rmse for item based collaborative: {}'.format(rmse_matrix(item_based_prediction, test_mask, test_data_matrix)))\n",
    "print('ndcg for user based collaborative: {}'.format(ndcg(user_based_prediction, test_data_matrix)))\n",
    "print('ndcg for item based collaborative: {}'.format(ndcg(item_based_prediction, test_data_matrix)))\n",
    "print('mae for user based collaborative: {}'.format(mae_matrix(user_based_prediction, test_mask, test_data_matrix)))\n",
    "print('mae for item based collaborative: {}'.format(mae_matrix(item_based_prediction, test_mask, test_data_matrix)))"
   ]
  },
  {
   "cell_type": "markdown",
   "metadata": {},
   "source": [
    "## Random walk"
   ]
  },
  {
   "cell_type": "code",
   "execution_count": 22,
   "metadata": {},
   "outputs": [],
   "source": [
    "def random_walk_predict(ratings, item_similarity, n_items, alpha=0.8, beta=0.8):\n",
    "    ones = np.eye(n_items)\n",
    "    transition_matrix = np.zeros((n_items, n_items))\n",
    "\n",
    "    for i in range(n_items):\n",
    "        sum_ = item_similarity[i].sum()\n",
    "        for j in range(n_items):\n",
    "            transition_matrix[i][j] = beta*item_similarity[i][j]/sum_+(1-beta)/n_items\n",
    "\n",
    "    p_tilde = np.linalg.pinv(ones-alpha*transition_matrix)\n",
    "    final_rating = alpha*np.dot(ratings, np.dot(transition_matrix, p_tilde))\n",
    "    from sklearn.preprocessing import MinMaxScaler\n",
    "    scaler = MinMaxScaler()\n",
    "    scaled_prediction = (scaler.fit_transform(final_rating.T)*5).T\n",
    "    return scaled_prediction"
   ]
  },
  {
   "cell_type": "code",
   "execution_count": 42,
   "metadata": {},
   "outputs": [],
   "source": [
    "randomwork_based_prediction = random_walk_predict(user_item_matrix, item_similarity, n_items)\n",
    "random_walk_prediction = np.clip(randomwork_based_prediction, 1, 5)"
   ]
  },
  {
   "cell_type": "code",
   "execution_count": 45,
   "metadata": {},
   "outputs": [
    {
     "name": "stdout",
     "output_type": "stream",
     "text": [
      "rmse for random walk: 1.324171422227052\n",
      "ndcg for random walk: 0.8419438847857781\n",
      "mae for random walk: 1.0525639684335009\n"
     ]
    }
   ],
   "source": [
    "print('rmse for random walk: {}'.format(rmse_matrix(randomwork_based_prediction, test_mask, test_data_matrix)))\n",
    "print('ndcg for random walk: {}'.format(ndcg(randomwork_based_prediction, test_data_matrix)))\n",
    "print('mae for random walk: {}'.format(mae_matrix(randomwork_based_prediction, test_mask, test_data_matrix)))"
   ]
  }
 ],
 "metadata": {
  "kernelspec": {
   "display_name": "Python 3.9.5 ('base')",
   "language": "python",
   "name": "python3"
  },
  "language_info": {
   "codemirror_mode": {
    "name": "ipython",
    "version": 3
   },
   "file_extension": ".py",
   "mimetype": "text/x-python",
   "name": "python",
   "nbconvert_exporter": "python",
   "pygments_lexer": "ipython3",
   "version": "3.9.5"
  },
  "orig_nbformat": 4,
  "vscode": {
   "interpreter": {
    "hash": "c8096d1454e3624a326c6294fdb446e72542397b4160fa8318f9dc24bee15a75"
   }
  }
 },
 "nbformat": 4,
 "nbformat_minor": 2
}
